{
 "cells": [
  {
   "cell_type": "markdown",
   "metadata": {},
   "source": [
    "# Assignment 3"
   ]
  },
  {
   "cell_type": "code",
   "execution_count": 1,
   "metadata": {},
   "outputs": [],
   "source": [
    "import numpy as np\n",
    "import matplotlib.pyplot as plt\n",
    "import folium\n",
    "import pandas as pd\n",
    "%matplotlib inline\n",
    "%config InlineBackend.figure_format='retina'"
   ]
  },
  {
   "cell_type": "code",
   "execution_count": 14,
   "metadata": {},
   "outputs": [],
   "source": [
    "data = pd.read_csv('data.csv')\n",
    "data['Timestamp'] = pd.to_datetime(data['Timestamp'])"
   ]
  },
  {
   "cell_type": "markdown",
   "metadata": {},
   "source": [
    "### Spacial Aggregation"
   ]
  },
  {
   "cell_type": "code",
   "execution_count": 10,
   "metadata": {},
   "outputs": [
    {
     "name": "stdout",
     "output_type": "stream",
     "text": [
      "Delhi\n",
      "1000.0\n"
     ]
    }
   ],
   "source": [
    "highest_PM25 = data.loc[data['PM2.5'].idxmax()]\n",
    "print(highest_PM25['state'])\n",
    "print(data['PM2.5'].max())"
   ]
  },
  {
   "cell_type": "markdown",
   "metadata": {},
   "source": [
    "State with highest PM2.5 concentration across all stations and across all years - Delhi (1000)"
   ]
  },
  {
   "cell_type": "code",
   "execution_count": 51,
   "metadata": {},
   "outputs": [
    {
     "name": "stdout",
     "output_type": "stream",
     "text": [
      "state\n",
      "Andhra Pradesh     2\n",
      "Assam             21\n",
      "Bihar             47\n",
      "Delhi             49\n",
      "Gujarat            4\n",
      "Haryana           21\n",
      "Jharkhand          1\n",
      "Karnataka         14\n",
      "Madhya Pradesh     8\n",
      "Maharashtra       30\n",
      "Odisha             1\n",
      "Rajasthan         14\n",
      "Tamil Nadu         3\n",
      "Telangana          1\n",
      "Tripura            1\n",
      "Uttar Pradesh     24\n",
      "Name: Timestamp, dtype: int64\n",
      "\n",
      "State which had most days with PM2.5 > 300 ug/m^3 for 2023: Delhi\n"
     ]
    }
   ],
   "source": [
    "hazardous_2023 = data.loc[(data['PM2.5'] > 300) & (data['Timestamp'].dt.year == 2023)]\n",
    "hazardous_days = hazardous_2023.groupby('state')['Timestamp'].nunique()\n",
    "print(hazardous_days)\n",
    "print()\n",
    "print(f\"State which had most days with PM2.5 > 300 ug/m^3 for 2023: {hazardous_days.idxmax()}\")"
   ]
  },
  {
   "cell_type": "code",
   "execution_count": 50,
   "metadata": {},
   "outputs": [
    {
     "name": "stdout",
     "output_type": "stream",
     "text": [
      "state\n",
      "Andhra Pradesh        700.693761\n",
      "Arunachal Pradesh     109.960758\n",
      "Assam                3782.385912\n",
      "Bihar                4062.047746\n",
      "Chandigarh           1422.462272\n",
      "Chhattisgarh          403.063465\n",
      "Delhi                6855.360723\n",
      "Gujarat              1102.955890\n",
      "Haryana              2759.889343\n",
      "Himachal Pradesh     2076.984834\n",
      "Jammu and Kashmir     308.742773\n",
      "Jharkhand            1616.998640\n",
      "Karnataka             715.347853\n",
      "Kerala                291.439354\n",
      "Madhya Pradesh       1602.143701\n",
      "Maharashtra          1596.863228\n",
      "Manipur               963.108415\n",
      "Meghalaya             528.725670\n",
      "Mizoram                66.944097\n",
      "Nagaland              411.344117\n",
      "Odisha               1305.383102\n",
      "Puducherry            253.675108\n",
      "Punjab               1127.819793\n",
      "Rajasthan            1594.353150\n",
      "Sikkim                374.469682\n",
      "Tamil Nadu            484.778569\n",
      "Telangana             355.037698\n",
      "Tripura              2198.152743\n",
      "Uttar Pradesh        2092.988347\n",
      "Uttarakhand           407.828153\n",
      "West Bengal          1179.719624\n",
      "Name: PM2.5, dtype: float64 state\n",
      "Andhra Pradesh       26.470621\n",
      "Arunachal Pradesh    10.486218\n",
      "Assam                61.501105\n",
      "Bihar                63.734196\n",
      "Chandigarh           37.715544\n",
      "Chhattisgarh         20.076441\n",
      "Delhi                82.797106\n",
      "Gujarat              33.210780\n",
      "Haryana              52.534649\n",
      "Himachal Pradesh     45.573949\n",
      "Jammu and Kashmir    17.571078\n",
      "Jharkhand            40.211922\n",
      "Karnataka            26.745988\n",
      "Kerala               17.071595\n",
      "Madhya Pradesh       40.026787\n",
      "Maharashtra          39.960771\n",
      "Manipur              31.033988\n",
      "Meghalaya            22.994036\n",
      "Mizoram               8.181937\n",
      "Nagaland             20.281620\n",
      "Odisha               36.130086\n",
      "Puducherry           15.927181\n",
      "Punjab               33.583028\n",
      "Rajasthan            39.929352\n",
      "Sikkim               19.351219\n",
      "Tamil Nadu           22.017688\n",
      "Telangana            18.842444\n",
      "Tripura              46.884462\n",
      "Uttar Pradesh        45.749190\n",
      "Uttarakhand          20.194756\n",
      "West Bengal          34.347047\n",
      "Name: PM2.5, dtype: float64\n"
     ]
    }
   ],
   "source": [
    "var_2023 = data.loc[data['Timestamp'].dt.year == 2023]\n",
    "variability = var_2023.groupby('state')['PM2.5'].var()\n",
    "std = var_2023.groupby('state')['PM2.5'].std()\n",
    "print(variability, std)"
   ]
  },
  {
   "cell_type": "code",
   "execution_count": 58,
   "metadata": {},
   "outputs": [
    {
     "name": "stdout",
     "output_type": "stream",
     "text": [
      "14.323350150801287 Mizoram\n"
     ]
    }
   ],
   "source": [
    "covid_levels = data.loc[(data['Timestamp'].dt.year>=2020) & (data['Timestamp'].dt.year<=2021)]\n",
    "covid_mean = covid_levels.groupby('state')['PM2.5'].mean()\n",
    "print(covid_mean.min(), covid_mean.idxmin())"
   ]
  },
  {
   "cell_type": "markdown",
   "metadata": {},
   "source": [
    "### Temporal Aggregation"
   ]
  },
  {
   "cell_type": "code",
   "execution_count": 14,
   "metadata": {},
   "outputs": [
    {
     "name": "stdout",
     "output_type": "stream",
     "text": [
      "['Lal Bahadur Shastri Nagar, Kalaburagi - KSPCB']\n",
      "805.51\n"
     ]
    }
   ],
   "source": [
    "data['Timestamp'] = pd.to_datetime(data['Timestamp'])\n",
    "\n",
    "# Filter the data for August 2020\n",
    "august_data = data[(data['Timestamp'].dt.month == 8) & (data['Timestamp'].dt.year == 2020)]\n",
    "\n",
    "# Find the station with the highest PM2.5 value in August 2020\n",
    "station = august_data['PM2.5'].max()\n",
    "\n",
    "# Output the station name and highest PM2.5 value\n",
    "station_name = august_data[august_data['PM2.5'] == station]['station'].values\n",
    "print(station_name)\n",
    "print(station)"
   ]
  },
  {
   "cell_type": "code",
   "execution_count": null,
   "metadata": {},
   "outputs": [],
   "source": []
  }
 ],
 "metadata": {
  "kernelspec": {
   "display_name": "Python 3",
   "language": "python",
   "name": "python3"
  },
  "language_info": {
   "codemirror_mode": {
    "name": "ipython",
    "version": 3
   },
   "file_extension": ".py",
   "mimetype": "text/x-python",
   "name": "python",
   "nbconvert_exporter": "python",
   "pygments_lexer": "ipython3",
   "version": "3.12.6"
  }
 },
 "nbformat": 4,
 "nbformat_minor": 2
}
